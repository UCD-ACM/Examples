{
 "cells": [
  {
   "cell_type": "markdown",
   "id": "b3e8e1b0",
   "metadata": {},
   "source": [
    "# Regression\n",
    "\n",
    "## Load useful packages"
   ]
  },
  {
   "cell_type": "markdown",
   "id": "c16ee2cf",
   "metadata": {},
   "source": [
    "Before we start, let's load some packages: [numpy](https://numpy.org) (for matrix manipulations), [cvxpy](https://www.cvxpy.org) (convex optimisation) and [matplotlib](https://matplotlib.org) (plotting).\n",
    "\n",
    "Note: if you are using anaconda python you may not have cvxpy installed by default. Install it using the command ``conda install -c conda-forge cvxpy``. You may also need to install matplotlib using ``conda install matplotlib``."
   ]
  },
  {
   "cell_type": "code",
   "execution_count": 4,
   "id": "fa912aa8",
   "metadata": {},
   "outputs": [],
   "source": [
    "import numpy as np\n",
    "from cvxpy import *\n",
    "import matplotlib.pyplot as plt\n",
    "%matplotlib inline"
   ]
  },
  {
   "cell_type": "markdown",
   "id": "5d78f3ac",
   "metadata": {},
   "source": [
    "## Analysing a dataset\n",
    "\n",
    "Imagine we have some data taken from an experiment and we would like to find a model that fits the data well.\n",
    "\n",
    "Here is some data I took earlier. Can you figure out a good model for this data? How would you verify that your model is a good fit for the data?"
   ]
  },
  {
   "cell_type": "code",
   "execution_count": 5,
   "id": "d1318e89",
   "metadata": {},
   "outputs": [],
   "source": [
    "data = np.array([\n",
    " [0.0, 3.35982],\n",
    " [0.5, 4.45784],\n",
    " [1.0, 4.98725],\n",
    " [1.5, 5.92751],\n",
    " [2.0, 6.99903],\n",
    " [2.5, 8.37272],\n",
    " [3.0, 9.22212],\n",
    " [3.5, 9.72170],\n",
    " [4.0, 11.0244],\n",
    " [4.5, 11.7995],\n",
    " [5.0, 13.0831]])"
   ]
  },
  {
   "cell_type": "markdown",
   "id": "583e1c76",
   "metadata": {},
   "source": [
    "The first thing we should do is try to plot the data to see if we can recognise anything"
   ]
  },
  {
   "cell_type": "code",
   "execution_count": 6,
   "id": "658ff4bd",
   "metadata": {},
   "outputs": [
    {
     "data": {
      "image/png": "[encoded data removed]",
      "text/plain": [
       "<Figure size 640x480 with 1 Axes>"
      ]
     },
     "metadata": {},
     "output_type": "display_data"
    }
   ],
   "source": [
    "p1 = plt.plot(data[:,0],data[:,1],'o')\n",
    "plt.xlabel('x')\n",
    "plt.ylabel('y')\n",
    "plt.show()"
   ]
  },
  {
   "cell_type": "markdown",
   "id": "583231f7",
   "metadata": {},
   "source": [
    "If we have a good idea for a model that might fit the data, then we can use *regression* to look for the parameters that best fit the data. This looks like the plot of a straight line, $y(x)= a x + b$ so let's try to fit a linear model of that form to the data. To do so, we can we can use our data samples to write an (overdetermined) linear system of equations $ X \\beta = y$ where\n",
    "$$ X = \\begin{pmatrix} 1 & x_1 \\\\ \\vdots & \\vdots \\\\ 1 & x_n \\end{pmatrix}, \\quad y = \\begin{pmatrix} y(x_1) \\\\ \\vdots \\\\ y(x_n) \\end{pmatrix}, \\quad \\beta = \\begin{pmatrix} a \\\\ b \\end{pmatrix}$$\n",
    "This does not have a solution because it is an overdetermined system, or equivalently because the points don't all sit exactly on a line. Instead, we can try to find the line that \"best\" fits the data. If we define \"best\" to mean the line that minimises the square of the 2-norm $||X\\beta - y||^2$ then this leads us to regression, in which we instead solve the system $X^T X \\beta = X^T y$, which does have a solution for $\\alpha$ and $\\beta$.\n",
    "\n",
    "To formulate this as an optimisation problem, consider the system of equations:\n",
    "$$ y = X \\begin{pmatrix} \\alpha \\\\ \\beta \\end{pmatrix} + \\epsilon$$\n",
    "where $\\epsilon$ is a vector of vertical distances of the points from the best fit line.\n",
    "Then, the optimisation problem is\n",
    "$$\\min_{\\beta} || \\epsilon ||^2$$"
   ]
  },
  {
   "cell_type": "markdown",
   "id": "9e8559f5",
   "metadata": {},
   "source": [
    "## Tasks\n",
    "\n",
    "1. Solve this using gradient descent with the optimal step-size.\n",
    "2. Solve this problem using cvxpy."
   ]
  },
  {
   "cell_type": "code",
   "execution_count": null,
   "id": "d9eccde0",
   "metadata": {},
   "outputs": [],
   "source": []
  }
 ],
 "metadata": {
  "kernelspec": {
   "display_name": "Python 3 (ipykernel)",
   "language": "python",
   "name": "python3"
  },
  "language_info": {
   "codemirror_mode": {
    "name": "ipython",
    "version": 3
   },
   "file_extension": ".py",
   "mimetype": "text/x-python",
   "name": "python",
   "nbconvert_exporter": "python",
   "pygments_lexer": "ipython3",
   "version": "3.10.10"
  }
 },
 "nbformat": 4,
 "nbformat_minor": 5
}
